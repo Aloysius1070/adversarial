{
 "cells": [
  {
   "cell_type": "code",
   "execution_count": 1,
   "id": "6a5c968f-6b45-48f0-a5ed-3552e1cf8d46",
   "metadata": {},
   "outputs": [
    {
     "name": "stdout",
     "output_type": "stream",
     "text": [
      "Defaulting to user installation because normal site-packages is not writeable"
     ]
    },
    {
     "name": "stderr",
     "output_type": "stream",
     "text": [
      "  error: subprocess-exited-with-error\n",
      "  \n",
      "  python setup.py bdist_wheel did not run successfully.\n",
      "  exit code: 1\n",
      "  \n",
      "  [18 lines of output]\n",
      "  Traceback (most recent call last):\n",
      "    File \"<string>\", line 2, in <module>\n",
      "    File \"<pip-setuptools-caller>\", line 34, in <module>\n",
      "    File \"C:\\Users\\HP LAPTOP\\AppData\\Local\\Temp\\pip-install-dmcql9ly\\tensorflow-gpu_77d0828008744aadb1f349a1d0949d63\\setup.py\", line 37, in <module>\n",
      "      raise Exception(TF_REMOVAL_WARNING)\n",
      "  Exception:\n",
      "  \n",
      "  =========================================================\n",
      "  The \"tensorflow-gpu\" package has been removed!\n",
      "  \n",
      "  Please install \"tensorflow\" instead.\n",
      "  \n",
      "  Other than the name, the two packages have been identical\n",
      "  since TensorFlow 2.1, or roughly since Sep 2019. For more\n",
      "  information, see: pypi.org/project/tensorflow-gpu\n",
      "  =========================================================\n",
      "  \n",
      "  \n",
      "  [end of output]\n",
      "  \n",
      "  note: This error originates from a subprocess, and is likely not a problem with pip.\n",
      "  ERROR: Failed building wheel for tensorflow-gpu\n",
      "ERROR: Could not build wheels for tensorflow-gpu, which is required to install pyproject.toml-based projects\n",
      "\n",
      "[notice] A new release of pip is available: 23.1.2 -> 25.0.1\n",
      "[notice] To update, run: C:\\Program Files\\Python311\\python.exe -m pip install --upgrade pip\n"
     ]
    },
    {
     "name": "stdout",
     "output_type": "stream",
     "text": [
      "\n",
      "Requirement already satisfied: tensorflow in c:\\users\\hp laptop\\appdata\\roaming\\python\\python311\\site-packages (2.18.0)\n",
      "Collecting tensorflow-gpu\n",
      "  Using cached tensorflow-gpu-2.12.0.tar.gz (2.6 kB)\n",
      "  Preparing metadata (setup.py): started\n",
      "  Preparing metadata (setup.py): finished with status 'done'\n",
      "Requirement already satisfied: matplotlib in c:\\users\\hp laptop\\appdata\\roaming\\python\\python311\\site-packages (3.8.3)\n",
      "Requirement already satisfied: tensorflow-datasets in c:\\users\\hp laptop\\appdata\\roaming\\python\\python311\\site-packages (4.9.7)\n",
      "Requirement already satisfied: ipywidgets in c:\\users\\hp laptop\\appdata\\roaming\\python\\python311\\site-packages (8.1.2)\n",
      "Requirement already satisfied: tensorflow-intel==2.18.0 in c:\\users\\hp laptop\\appdata\\roaming\\python\\python311\\site-packages (from tensorflow) (2.18.0)\n",
      "Requirement already satisfied: absl-py>=1.0.0 in c:\\users\\hp laptop\\appdata\\roaming\\python\\python311\\site-packages (from tensorflow-intel==2.18.0->tensorflow) (2.1.0)\n",
      "Requirement already satisfied: astunparse>=1.6.0 in c:\\users\\hp laptop\\appdata\\roaming\\python\\python311\\site-packages (from tensorflow-intel==2.18.0->tensorflow) (1.6.3)\n",
      "Requirement already satisfied: flatbuffers>=24.3.25 in c:\\users\\hp laptop\\appdata\\roaming\\python\\python311\\site-packages (from tensorflow-intel==2.18.0->tensorflow) (25.2.10)\n",
      "Requirement already satisfied: gast!=0.5.0,!=0.5.1,!=0.5.2,>=0.2.1 in c:\\users\\hp laptop\\appdata\\roaming\\python\\python311\\site-packages (from tensorflow-intel==2.18.0->tensorflow) (0.6.0)\n",
      "Requirement already satisfied: google-pasta>=0.1.1 in c:\\users\\hp laptop\\appdata\\roaming\\python\\python311\\site-packages (from tensorflow-intel==2.18.0->tensorflow) (0.2.0)\n",
      "Requirement already satisfied: libclang>=13.0.0 in c:\\users\\hp laptop\\appdata\\roaming\\python\\python311\\site-packages (from tensorflow-intel==2.18.0->tensorflow) (18.1.1)\n",
      "Requirement already satisfied: opt-einsum>=2.3.2 in c:\\users\\hp laptop\\appdata\\roaming\\python\\python311\\site-packages (from tensorflow-intel==2.18.0->tensorflow) (3.4.0)\n",
      "Requirement already satisfied: packaging in c:\\users\\hp laptop\\appdata\\roaming\\python\\python311\\site-packages (from tensorflow-intel==2.18.0->tensorflow) (23.2)\n",
      "Requirement already satisfied: protobuf!=4.21.0,!=4.21.1,!=4.21.2,!=4.21.3,!=4.21.4,!=4.21.5,<6.0.0dev,>=3.20.3 in c:\\users\\hp laptop\\appdata\\roaming\\python\\python311\\site-packages (from tensorflow-intel==2.18.0->tensorflow) (4.25.3)\n",
      "Requirement already satisfied: requests<3,>=2.21.0 in c:\\users\\hp laptop\\appdata\\roaming\\python\\python311\\site-packages (from tensorflow-intel==2.18.0->tensorflow) (2.31.0)\n",
      "Requirement already satisfied: setuptools in c:\\program files\\python311\\lib\\site-packages (from tensorflow-intel==2.18.0->tensorflow) (65.5.0)\n",
      "Requirement already satisfied: six>=1.12.0 in c:\\users\\hp laptop\\appdata\\roaming\\python\\python311\\site-packages (from tensorflow-intel==2.18.0->tensorflow) (1.16.0)\n",
      "Requirement already satisfied: termcolor>=1.1.0 in c:\\users\\hp laptop\\appdata\\roaming\\python\\python311\\site-packages (from tensorflow-intel==2.18.0->tensorflow) (2.5.0)\n",
      "Requirement already satisfied: typing-extensions>=3.6.6 in c:\\users\\hp laptop\\appdata\\roaming\\python\\python311\\site-packages (from tensorflow-intel==2.18.0->tensorflow) (4.10.0)\n",
      "Requirement already satisfied: wrapt>=1.11.0 in c:\\users\\hp laptop\\appdata\\roaming\\python\\python311\\site-packages (from tensorflow-intel==2.18.0->tensorflow) (1.17.2)\n",
      "Requirement already satisfied: grpcio<2.0,>=1.24.3 in c:\\users\\hp laptop\\appdata\\roaming\\python\\python311\\site-packages (from tensorflow-intel==2.18.0->tensorflow) (1.70.0)\n",
      "Requirement already satisfied: tensorboard<2.19,>=2.18 in c:\\users\\hp laptop\\appdata\\roaming\\python\\python311\\site-packages (from tensorflow-intel==2.18.0->tensorflow) (2.18.0)\n",
      "Requirement already satisfied: keras>=3.5.0 in c:\\users\\hp laptop\\appdata\\roaming\\python\\python311\\site-packages (from tensorflow-intel==2.18.0->tensorflow) (3.8.0)\n",
      "Requirement already satisfied: numpy<2.1.0,>=1.26.0 in c:\\users\\hp laptop\\appdata\\roaming\\python\\python311\\site-packages (from tensorflow-intel==2.18.0->tensorflow) (1.26.4)\n",
      "Requirement already satisfied: h5py>=3.11.0 in c:\\users\\hp laptop\\appdata\\roaming\\python\\python311\\site-packages (from tensorflow-intel==2.18.0->tensorflow) (3.13.0)\n",
      "Requirement already satisfied: ml-dtypes<0.5.0,>=0.4.0 in c:\\users\\hp laptop\\appdata\\roaming\\python\\python311\\site-packages (from tensorflow-intel==2.18.0->tensorflow) (0.4.1)\n",
      "Requirement already satisfied: tensorflow-io-gcs-filesystem>=0.23.1 in c:\\users\\hp laptop\\appdata\\roaming\\python\\python311\\site-packages (from tensorflow-intel==2.18.0->tensorflow) (0.31.0)\n",
      "Collecting python_version>\"3.7\" (from tensorflow-gpu)\n",
      "  Using cached python_version-0.0.2-py2.py3-none-any.whl (3.4 kB)\n",
      "Requirement already satisfied: contourpy>=1.0.1 in c:\\users\\hp laptop\\appdata\\roaming\\python\\python311\\site-packages (from matplotlib) (1.2.0)\n",
      "Requirement already satisfied: cycler>=0.10 in c:\\users\\hp laptop\\appdata\\roaming\\python\\python311\\site-packages (from matplotlib) (0.12.1)\n",
      "Requirement already satisfied: fonttools>=4.22.0 in c:\\users\\hp laptop\\appdata\\roaming\\python\\python311\\site-packages (from matplotlib) (4.49.0)\n",
      "Requirement already satisfied: kiwisolver>=1.3.1 in c:\\users\\hp laptop\\appdata\\roaming\\python\\python311\\site-packages (from matplotlib) (1.4.5)\n",
      "Requirement already satisfied: pillow>=8 in c:\\users\\hp laptop\\appdata\\roaming\\python\\python311\\site-packages (from matplotlib) (10.2.0)\n",
      "Requirement already satisfied: pyparsing>=2.3.1 in c:\\users\\hp laptop\\appdata\\roaming\\python\\python311\\site-packages (from matplotlib) (3.1.2)\n",
      "Requirement already satisfied: python-dateutil>=2.7 in c:\\users\\hp laptop\\appdata\\roaming\\python\\python311\\site-packages (from matplotlib) (2.9.0.post0)\n",
      "Requirement already satisfied: click in c:\\users\\hp laptop\\appdata\\roaming\\python\\python311\\site-packages (from tensorflow-datasets) (8.1.7)\n",
      "Requirement already satisfied: dm-tree in c:\\users\\hp laptop\\appdata\\roaming\\python\\python311\\site-packages (from tensorflow-datasets) (0.1.9)\n",
      "Requirement already satisfied: immutabledict in c:\\users\\hp laptop\\appdata\\roaming\\python\\python311\\site-packages (from tensorflow-datasets) (4.2.1)\n",
      "Requirement already satisfied: promise in c:\\users\\hp laptop\\appdata\\roaming\\python\\python311\\site-packages (from tensorflow-datasets) (2.3)\n",
      "Requirement already satisfied: psutil in c:\\users\\hp laptop\\appdata\\roaming\\python\\python311\\site-packages (from tensorflow-datasets) (5.9.8)\n",
      "Requirement already satisfied: pyarrow in c:\\users\\hp laptop\\appdata\\roaming\\python\\python311\\site-packages (from tensorflow-datasets) (15.0.2)\n",
      "Requirement already satisfied: simple-parsing in c:\\users\\hp laptop\\appdata\\roaming\\python\\python311\\site-packages (from tensorflow-datasets) (0.1.7)\n",
      "Requirement already satisfied: tensorflow-metadata in c:\\users\\hp laptop\\appdata\\roaming\\python\\python311\\site-packages (from tensorflow-datasets) (1.16.1)\n",
      "Requirement already satisfied: toml in c:\\users\\hp laptop\\appdata\\roaming\\python\\python311\\site-packages (from tensorflow-datasets) (0.10.2)\n",
      "Requirement already satisfied: tqdm in c:\\users\\hp laptop\\appdata\\roaming\\python\\python311\\site-packages (from tensorflow-datasets) (4.66.2)\n",
      "Requirement already satisfied: etils[edc,enp,epath,epy,etree]>=1.9.1 in c:\\users\\hp laptop\\appdata\\roaming\\python\\python311\\site-packages (from tensorflow-datasets) (1.12.1)\n",
      "Requirement already satisfied: comm>=0.1.3 in c:\\users\\hp laptop\\appdata\\roaming\\python\\python311\\site-packages (from ipywidgets) (0.2.1)\n",
      "Requirement already satisfied: ipython>=6.1.0 in c:\\users\\hp laptop\\appdata\\roaming\\python\\python311\\site-packages (from ipywidgets) (8.22.2)\n",
      "Requirement already satisfied: traitlets>=4.3.1 in c:\\users\\hp laptop\\appdata\\roaming\\python\\python311\\site-packages (from ipywidgets) (5.14.1)\n",
      "Requirement already satisfied: widgetsnbextension~=4.0.10 in c:\\users\\hp laptop\\appdata\\roaming\\python\\python311\\site-packages (from ipywidgets) (4.0.10)\n",
      "Requirement already satisfied: jupyterlab-widgets~=3.0.10 in c:\\users\\hp laptop\\appdata\\roaming\\python\\python311\\site-packages (from ipywidgets) (3.0.10)\n",
      "Requirement already satisfied: einops in c:\\users\\hp laptop\\appdata\\roaming\\python\\python311\\site-packages (from etils[edc,enp,epath,epy,etree]>=1.9.1->tensorflow-datasets) (0.8.1)\n",
      "Requirement already satisfied: fsspec in c:\\users\\hp laptop\\appdata\\roaming\\python\\python311\\site-packages (from etils[edc,enp,epath,epy,etree]>=1.9.1->tensorflow-datasets) (2025.3.0)\n",
      "Requirement already satisfied: importlib_resources in c:\\users\\hp laptop\\appdata\\roaming\\python\\python311\\site-packages (from etils[edc,enp,epath,epy,etree]>=1.9.1->tensorflow-datasets) (6.5.2)\n",
      "Requirement already satisfied: zipp in c:\\users\\hp laptop\\appdata\\roaming\\python\\python311\\site-packages (from etils[edc,enp,epath,epy,etree]>=1.9.1->tensorflow-datasets) (3.21.0)\n",
      "Requirement already satisfied: decorator in c:\\users\\hp laptop\\appdata\\roaming\\python\\python311\\site-packages (from ipython>=6.1.0->ipywidgets) (5.1.1)\n",
      "Requirement already satisfied: jedi>=0.16 in c:\\users\\hp laptop\\appdata\\roaming\\python\\python311\\site-packages (from ipython>=6.1.0->ipywidgets) (0.19.1)\n",
      "Requirement already satisfied: matplotlib-inline in c:\\users\\hp laptop\\appdata\\roaming\\python\\python311\\site-packages (from ipython>=6.1.0->ipywidgets) (0.1.6)\n",
      "Requirement already satisfied: prompt-toolkit<3.1.0,>=3.0.41 in c:\\users\\hp laptop\\appdata\\roaming\\python\\python311\\site-packages (from ipython>=6.1.0->ipywidgets) (3.0.43)\n",
      "Requirement already satisfied: pygments>=2.4.0 in c:\\users\\hp laptop\\appdata\\roaming\\python\\python311\\site-packages (from ipython>=6.1.0->ipywidgets) (2.17.2)\n",
      "Requirement already satisfied: stack-data in c:\\users\\hp laptop\\appdata\\roaming\\python\\python311\\site-packages (from ipython>=6.1.0->ipywidgets) (0.6.3)\n",
      "Requirement already satisfied: colorama in c:\\users\\hp laptop\\appdata\\roaming\\python\\python311\\site-packages (from ipython>=6.1.0->ipywidgets) (0.4.6)\n",
      "Requirement already satisfied: charset-normalizer<4,>=2 in c:\\users\\hp laptop\\appdata\\roaming\\python\\python311\\site-packages (from requests<3,>=2.21.0->tensorflow-intel==2.18.0->tensorflow) (3.3.2)\n",
      "Requirement already satisfied: idna<4,>=2.5 in c:\\users\\hp laptop\\appdata\\roaming\\python\\python311\\site-packages (from requests<3,>=2.21.0->tensorflow-intel==2.18.0->tensorflow) (3.6)\n",
      "Requirement already satisfied: urllib3<3,>=1.21.1 in c:\\users\\hp laptop\\appdata\\roaming\\python\\python311\\site-packages (from requests<3,>=2.21.0->tensorflow-intel==2.18.0->tensorflow) (2.2.1)\n",
      "Requirement already satisfied: certifi>=2017.4.17 in c:\\users\\hp laptop\\appdata\\roaming\\python\\python311\\site-packages (from requests<3,>=2.21.0->tensorflow-intel==2.18.0->tensorflow) (2024.2.2)\n",
      "Requirement already satisfied: attrs>=18.2.0 in c:\\users\\hp laptop\\appdata\\roaming\\python\\python311\\site-packages (from dm-tree->tensorflow-datasets) (23.2.0)\n",
      "Requirement already satisfied: docstring-parser<1.0,>=0.15 in c:\\users\\hp laptop\\appdata\\roaming\\python\\python311\\site-packages (from simple-parsing->tensorflow-datasets) (0.16)\n",
      "Requirement already satisfied: googleapis-common-protos<2,>=1.56.4 in c:\\users\\hp laptop\\appdata\\roaming\\python\\python311\\site-packages (from tensorflow-metadata->tensorflow-datasets) (1.69.1)\n",
      "Requirement already satisfied: wheel<1.0,>=0.23.0 in c:\\users\\hp laptop\\appdata\\roaming\\python\\python311\\site-packages (from astunparse>=1.6.0->tensorflow-intel==2.18.0->tensorflow) (0.45.1)\n",
      "Requirement already satisfied: parso<0.9.0,>=0.8.3 in c:\\users\\hp laptop\\appdata\\roaming\\python\\python311\\site-packages (from jedi>=0.16->ipython>=6.1.0->ipywidgets) (0.8.3)\n",
      "Requirement already satisfied: rich in c:\\users\\hp laptop\\appdata\\roaming\\python\\python311\\site-packages (from keras>=3.5.0->tensorflow-intel==2.18.0->tensorflow) (13.7.1)\n",
      "Requirement already satisfied: namex in c:\\users\\hp laptop\\appdata\\roaming\\python\\python311\\site-packages (from keras>=3.5.0->tensorflow-intel==2.18.0->tensorflow) (0.0.8)\n",
      "Requirement already satisfied: optree in c:\\users\\hp laptop\\appdata\\roaming\\python\\python311\\site-packages (from keras>=3.5.0->tensorflow-intel==2.18.0->tensorflow) (0.14.0)\n",
      "Requirement already satisfied: wcwidth in c:\\users\\hp laptop\\appdata\\roaming\\python\\python311\\site-packages (from prompt-toolkit<3.1.0,>=3.0.41->ipython>=6.1.0->ipywidgets) (0.2.13)\n",
      "Requirement already satisfied: markdown>=2.6.8 in c:\\users\\hp laptop\\appdata\\roaming\\python\\python311\\site-packages (from tensorboard<2.19,>=2.18->tensorflow-intel==2.18.0->tensorflow) (3.7)\n",
      "Requirement already satisfied: tensorboard-data-server<0.8.0,>=0.7.0 in c:\\users\\hp laptop\\appdata\\roaming\\python\\python311\\site-packages (from tensorboard<2.19,>=2.18->tensorflow-intel==2.18.0->tensorflow) (0.7.2)\n",
      "Requirement already satisfied: werkzeug>=1.0.1 in c:\\users\\hp laptop\\appdata\\roaming\\python\\python311\\site-packages (from tensorboard<2.19,>=2.18->tensorflow-intel==2.18.0->tensorflow) (3.0.4)\n",
      "Requirement already satisfied: executing>=1.2.0 in c:\\users\\hp laptop\\appdata\\roaming\\python\\python311\\site-packages (from stack-data->ipython>=6.1.0->ipywidgets) (2.0.1)\n",
      "Requirement already satisfied: asttokens>=2.1.0 in c:\\users\\hp laptop\\appdata\\roaming\\python\\python311\\site-packages (from stack-data->ipython>=6.1.0->ipywidgets) (2.4.1)\n",
      "Requirement already satisfied: pure-eval in c:\\users\\hp laptop\\appdata\\roaming\\python\\python311\\site-packages (from stack-data->ipython>=6.1.0->ipywidgets) (0.2.2)\n",
      "Requirement already satisfied: MarkupSafe>=2.1.1 in c:\\users\\hp laptop\\appdata\\roaming\\python\\python311\\site-packages (from werkzeug>=1.0.1->tensorboard<2.19,>=2.18->tensorflow-intel==2.18.0->tensorflow) (2.1.5)\n",
      "Requirement already satisfied: markdown-it-py>=2.2.0 in c:\\users\\hp laptop\\appdata\\roaming\\python\\python311\\site-packages (from rich->keras>=3.5.0->tensorflow-intel==2.18.0->tensorflow) (3.0.0)\n",
      "Requirement already satisfied: mdurl~=0.1 in c:\\users\\hp laptop\\appdata\\roaming\\python\\python311\\site-packages (from markdown-it-py>=2.2.0->rich->keras>=3.5.0->tensorflow-intel==2.18.0->tensorflow) (0.1.2)\n",
      "Building wheels for collected packages: tensorflow-gpu\n",
      "  Building wheel for tensorflow-gpu (setup.py): started\n",
      "  Building wheel for tensorflow-gpu (setup.py): finished with status 'error'\n",
      "  Running setup.py clean for tensorflow-gpu\n",
      "Failed to build tensorflow-gpu\n"
     ]
    }
   ],
   "source": [
    "!pip install tensorflow tensorflow-gpu matplotlib tensorflow-datasets ipywidgets"
   ]
  },
  {
   "cell_type": "code",
   "execution_count": 1,
   "id": "d38e857e-7476-4b98-80c6-3721dd0d8368",
   "metadata": {},
   "outputs": [],
   "source": [
    "import tensorflow as tf\n",
    "gpus=tf.config.experimental.list_physical_devices(\"GPU\")\n",
    "for gpu in gpus:\n",
    "    gpus.config.experimental.set_memory_growth(gpu,True)"
   ]
  },
  {
   "cell_type": "code",
   "execution_count": 2,
   "id": "709e7b14-29a5-42a4-9f28-fd60ac65d8a6",
   "metadata": {},
   "outputs": [
    {
     "data": {
      "text/plain": [
       "[]"
      ]
     },
     "execution_count": 2,
     "metadata": {},
     "output_type": "execute_result"
    }
   ],
   "source": [
    "gpus"
   ]
  },
  {
   "cell_type": "code",
   "execution_count": 3,
   "id": "795a75f3-86ad-4486-b296-6772b0103d5f",
   "metadata": {},
   "outputs": [],
   "source": [
    "import tensorflow_datasets as tfds\n",
    "import matplotlib.pyplot as plt "
   ]
  },
  {
   "cell_type": "code",
   "execution_count": 4,
   "id": "f3f6cbeb-042f-445c-8090-5c676d318318",
   "metadata": {},
   "outputs": [],
   "source": [
    "ds=tfds.load(\"fashion_mnist\",split=\"train\")"
   ]
  },
  {
   "cell_type": "code",
   "execution_count": 5,
   "id": "d6a9e0f9-46a5-414a-85e2-6eaa3be61c7f",
   "metadata": {},
   "outputs": [
    {
     "data": {
      "text/plain": [
       "dict_keys(['image', 'label'])"
      ]
     },
     "execution_count": 5,
     "metadata": {},
     "output_type": "execute_result"
    }
   ],
   "source": [
    "ds.as_numpy_iterator().next().keys()"
   ]
  },
  {
   "cell_type": "code",
   "execution_count": 6,
   "id": "4108760d-deb3-4cb7-ad63-bf86241df90c",
   "metadata": {},
   "outputs": [
    {
     "data": {
      "text/plain": [
       "(28, 28, 1)"
      ]
     },
     "execution_count": 6,
     "metadata": {},
     "output_type": "execute_result"
    }
   ],
   "source": [
    "ex=ds.as_numpy_iterator().next()[\"image\"]\n",
    "ex.shape"
   ]
  },
  {
   "cell_type": "code",
   "execution_count": 7,
   "id": "7996a1d4-2c35-4446-b324-22a1102c51c1",
   "metadata": {},
   "outputs": [
    {
     "data": {
      "text/plain": [
       "2"
      ]
     },
     "execution_count": 7,
     "metadata": {},
     "output_type": "execute_result"
    }
   ],
   "source": [
    "ds.as_numpy_iterator().next()[\"label\"]"
   ]
  },
  {
   "cell_type": "code",
   "execution_count": 8,
   "id": "9b2cd52b-994b-4f69-853b-a91b8f154e6e",
   "metadata": {},
   "outputs": [],
   "source": [
    "import numpy as np"
   ]
  },
  {
   "cell_type": "code",
   "execution_count": 9,
   "id": "f531624d-11f1-419b-9f0d-5e5ad83de7f6",
   "metadata": {},
   "outputs": [],
   "source": [
    "dataiterator=ds.as_numpy_iterator()"
   ]
  },
  {
   "cell_type": "code",
   "execution_count": 10,
   "id": "a0118935-b8f8-4b0d-a47c-88394554f6ad",
   "metadata": {},
   "outputs": [
    {
     "data": {
      "image/png": "[encoded data removed]",
      "text/plain": [
       "<Figure size 2000x2000 with 4 Axes>"
      ]
     },
     "metadata": {},
     "output_type": "display_data"
    }
   ],
   "source": [
    "fig,ax=plt.subplots(ncols=4,figsize=(20,20))\n",
    "for idx in range(4):\n",
    "    sample=dataiterator.next()\n",
    "    ax[idx].imshow(np.squeeze(sample[\"image\"]))\n",
    "    ax[idx].title.set_text(sample[\"label\"])"
   ]
  },
  {
   "cell_type": "code",
   "execution_count": 11,
   "id": "0721a5ff-178d-4d0d-b26a-31eaa9cd64e8",
   "metadata": {},
   "outputs": [],
   "source": [
    "def scale_images(data):\n",
    "    data=data[\"image\"]\n",
    "    return data/255"
   ]
  },
  {
   "cell_type": "code",
   "execution_count": 12,
   "id": "2e391bd5-3377-4aa5-b2ff-924b27b0ad0d",
   "metadata": {},
   "outputs": [],
   "source": [
    "ds=ds.map(scale_images)\n",
    "ds=ds.cache()\n",
    "ds=ds.shuffle(60000)\n",
    "ds=ds.batch(128)\n",
    "ds=ds.prefetch(64)"
   ]
  },
  {
   "cell_type": "code",
   "execution_count": 13,
   "id": "acfb5e5a-5c25-4383-afd8-98095b2da026",
   "metadata": {},
   "outputs": [],
   "source": [
    "from tensorflow.keras.models import Sequential\n",
    "from tensorflow.keras.layers import Dense,Conv2D,Flatten, Reshape, LeakyReLU, Dropout, UpSampling2D"
   ]
  },
  {
   "cell_type": "code",
   "execution_count": 14,
   "id": "2467d64d-b5ef-4f8c-b6b1-79afd449250e",
   "metadata": {},
   "outputs": [],
   "source": [
    "def build_generator():\n",
    "    model=Sequential()\n",
    "\n",
    "    model.add(Dense(7*7*128,input_dim=128))\n",
    "    model.add(LeakyReLU(0.2))\n",
    "    model.add(Reshape((7,7,128)))\n",
    "\n",
    "    model.add(UpSampling2D())\n",
    "    model.add(Conv2D(128,(5,5),padding=\"same\"))\n",
    "    model.add(LeakyReLU(0.2))\n",
    "\n",
    "    model.add(UpSampling2D())\n",
    "    model.add(Conv2D(128,(5,5),padding=\"same\"))\n",
    "    model.add(LeakyReLU(0.2))\n",
    "\n",
    "    model.add(Conv2D(128,(4,4),padding=\"same\"))\n",
    "    model.add(LeakyReLU(0.2))\n",
    "\n",
    "    model.add(Conv2D(128,(4,4),padding=\"same\"))\n",
    "    model.add(LeakyReLU(0.2))\n",
    "\n",
    "    model.add(Conv2D(1,(4,4),padding=\"same\",activation=\"sigmoid\"))\n",
    "\n",
    "    return model"
   ]
  },
  {
   "cell_type": "code",
   "execution_count": 22,
   "id": "822b6a24-1af6-445f-83dc-c6936b3206dd",
   "metadata": {},
   "outputs": [],
   "source": [
    "generator=build_generator()"
   ]
  },
  {
   "cell_type": "code",
   "execution_count": 23,
   "id": "266aac83-58f6-4d30-af1d-65ed7364daaa",
   "metadata": {},
   "outputs": [
    {
     "name": "stdout",
     "output_type": "stream",
     "text": [
      "\u001b[1m1/1\u001b[0m \u001b[32m━━━━━━━━━━━━━━━━━━━━\u001b[0m\u001b[37m\u001b[0m \u001b[1m0s\u001b[0m 465ms/step\n"
     ]
    },
    {
     "data": {
      "text/plain": [
       "array([[[[0.4995365 ],\n",
       "         [0.49291724],\n",
       "         [0.48998573],\n",
       "         ...,\n",
       "         [0.49238306],\n",
       "         [0.4951671 ],\n",
       "         [0.4948535 ]],\n",
       "\n",
       "        [[0.5002767 ],\n",
       "         [0.48616135],\n",
       "         [0.4854904 ],\n",
       "         ...,\n",
       "         [0.49715123],\n",
       "         [0.4952143 ],\n",
       "         [0.4912089 ]],\n",
       "\n",
       "        [[0.49190888],\n",
       "         [0.48860607],\n",
       "         [0.48478377],\n",
       "         ...,\n",
       "         [0.48997524],\n",
       "         [0.49374858],\n",
       "         [0.4877895 ]],\n",
       "\n",
       "        ...,\n",
       "\n",
       "        [[0.4935065 ],\n",
       "         [0.49318963],\n",
       "         [0.5001396 ],\n",
       "         ...,\n",
       "         [0.4959016 ],\n",
       "         [0.49545693],\n",
       "         [0.49759418]],\n",
       "\n",
       "        [[0.4981121 ],\n",
       "         [0.49541974],\n",
       "         [0.49721918],\n",
       "         ...,\n",
       "         [0.49848053],\n",
       "         [0.4963359 ],\n",
       "         [0.49823105]],\n",
       "\n",
       "        [[0.4993488 ],\n",
       "         [0.49702612],\n",
       "         [0.49419153],\n",
       "         ...,\n",
       "         [0.49860013],\n",
       "         [0.49887246],\n",
       "         [0.49983633]]],\n",
       "\n",
       "\n",
       "       [[[0.5018054 ],\n",
       "         [0.49107414],\n",
       "         [0.49448937],\n",
       "         ...,\n",
       "         [0.49416405],\n",
       "         [0.4928208 ],\n",
       "         [0.49429005]],\n",
       "\n",
       "        [[0.49955946],\n",
       "         [0.49342397],\n",
       "         [0.48407093],\n",
       "         ...,\n",
       "         [0.49336657],\n",
       "         [0.4907563 ],\n",
       "         [0.4928947 ]],\n",
       "\n",
       "        [[0.4935033 ],\n",
       "         [0.48362228],\n",
       "         [0.4823183 ],\n",
       "         ...,\n",
       "         [0.49196658],\n",
       "         [0.4912742 ],\n",
       "         [0.49319232]],\n",
       "\n",
       "        ...,\n",
       "\n",
       "        [[0.4928621 ],\n",
       "         [0.4900888 ],\n",
       "         [0.49541074],\n",
       "         ...,\n",
       "         [0.49863333],\n",
       "         [0.49877977],\n",
       "         [0.4977091 ]],\n",
       "\n",
       "        [[0.4956606 ],\n",
       "         [0.4924605 ],\n",
       "         [0.49359724],\n",
       "         ...,\n",
       "         [0.49581897],\n",
       "         [0.49635348],\n",
       "         [0.49714762]],\n",
       "\n",
       "        [[0.49705827],\n",
       "         [0.49618113],\n",
       "         [0.49743557],\n",
       "         ...,\n",
       "         [0.49757236],\n",
       "         [0.49844518],\n",
       "         [0.4996087 ]]],\n",
       "\n",
       "\n",
       "       [[[0.4866171 ],\n",
       "         [0.4808755 ],\n",
       "         [0.47960064],\n",
       "         ...,\n",
       "         [0.49644485],\n",
       "         [0.5011847 ],\n",
       "         [0.49948642]],\n",
       "\n",
       "        [[0.49513614],\n",
       "         [0.4905139 ],\n",
       "         [0.48952207],\n",
       "         ...,\n",
       "         [0.49558824],\n",
       "         [0.5027637 ],\n",
       "         [0.50035363]],\n",
       "\n",
       "        [[0.4964354 ],\n",
       "         [0.49308342],\n",
       "         [0.48299924],\n",
       "         ...,\n",
       "         [0.49684638],\n",
       "         [0.50248957],\n",
       "         [0.49584806]],\n",
       "\n",
       "        ...,\n",
       "\n",
       "        [[0.49457312],\n",
       "         [0.49269593],\n",
       "         [0.49226838],\n",
       "         ...,\n",
       "         [0.49737298],\n",
       "         [0.491902  ],\n",
       "         [0.49541786]],\n",
       "\n",
       "        [[0.49598297],\n",
       "         [0.49616855],\n",
       "         [0.49658877],\n",
       "         ...,\n",
       "         [0.49944854],\n",
       "         [0.49721518],\n",
       "         [0.4993224 ]],\n",
       "\n",
       "        [[0.49754754],\n",
       "         [0.4978118 ],\n",
       "         [0.50366926],\n",
       "         ...,\n",
       "         [0.49867982],\n",
       "         [0.49974597],\n",
       "         [0.5019183 ]]],\n",
       "\n",
       "\n",
       "       [[[0.49548858],\n",
       "         [0.48883805],\n",
       "         [0.49077046],\n",
       "         ...,\n",
       "         [0.49217296],\n",
       "         [0.4949174 ],\n",
       "         [0.49594602]],\n",
       "\n",
       "        [[0.49625638],\n",
       "         [0.48546755],\n",
       "         [0.48238134],\n",
       "         ...,\n",
       "         [0.48644578],\n",
       "         [0.49710673],\n",
       "         [0.4961407 ]],\n",
       "\n",
       "        [[0.4989345 ],\n",
       "         [0.48669094],\n",
       "         [0.48215833],\n",
       "         ...,\n",
       "         [0.49417835],\n",
       "         [0.49915826],\n",
       "         [0.4968062 ]],\n",
       "\n",
       "        ...,\n",
       "\n",
       "        [[0.49162826],\n",
       "         [0.49052793],\n",
       "         [0.49257064],\n",
       "         ...,\n",
       "         [0.49430445],\n",
       "         [0.49779564],\n",
       "         [0.4981901 ]],\n",
       "\n",
       "        [[0.49366373],\n",
       "         [0.4940193 ],\n",
       "         [0.4964544 ],\n",
       "         ...,\n",
       "         [0.49638015],\n",
       "         [0.5003712 ],\n",
       "         [0.49783328]],\n",
       "\n",
       "        [[0.49711245],\n",
       "         [0.50007004],\n",
       "         [0.5035828 ],\n",
       "         ...,\n",
       "         [0.50104   ],\n",
       "         [0.5045459 ],\n",
       "         [0.5015125 ]]]], dtype=float32)"
      ]
     },
     "execution_count": 23,
     "metadata": {},
     "output_type": "execute_result"
    }
   ],
   "source": [
    "img=generator.predict(np.random.randn(4,128,1))\n",
    "img"
   ]
  },
  {
   "cell_type": "code",
   "execution_count": 17,
   "id": "cf6db8f3-f2e2-43a3-9f72-df4b38db5781",
   "metadata": {},
   "outputs": [
    {
     "data": {
      "image/png": "[encoded data removed]",
      "text/plain": [
       "<Figure size 2000x2000 with 4 Axes>"
      ]
     },
     "metadata": {},
     "output_type": "display_data"
    }
   ],
   "source": [
    "fig,ax=plt.subplots(ncols=4,figsize=(20,20))\n",
    "for idx,img in enumerate(img):\n",
    "    ax[idx].imshow(np.squeeze(img))\n",
    "    ax[idx].title.set_text(idx)"
   ]
  },
  {
   "cell_type": "code",
   "execution_count": 18,
   "id": "dfe7cb56-0e2b-4553-8c27-9281b5b68f77",
   "metadata": {},
   "outputs": [],
   "source": [
    "def build_discriminator(): \n",
    "    model = Sequential()\n",
    "    \n",
    "    model.add(Conv2D(32, 5, input_shape = (28,28,1)))\n",
    "    model.add(LeakyReLU(0.2))\n",
    "    model.add(Dropout(0.4))\n",
    "\n",
    "    model.add(Conv2D(64, 5))\n",
    "    model.add(LeakyReLU(0.2))\n",
    "    model.add(Dropout(0.4))\n",
    "\n",
    "    model.add(Conv2D(128, 5))\n",
    "    model.add(LeakyReLU(0.2))\n",
    "    model.add(Dropout(0.4))\n",
    "\n",
    "    model.add(Conv2D(256, 5))\n",
    "    model.add(LeakyReLU(0.2))\n",
    "    model.add(Dropout(0.4))\n",
    "    \n",
    "    model.add(Flatten())\n",
    "    model.add(Dropout(0.4))\n",
    "    model.add(Dense(1, activation='sigmoid'))\n",
    "    \n",
    "    return model "
   ]
  },
  {
   "cell_type": "code",
   "execution_count": 24,
   "id": "a0eb8d4a-66ba-4704-8ff3-89ffd3714b43",
   "metadata": {},
   "outputs": [],
   "source": [
    "discriminator = build_discriminator()"
   ]
  },
  {
   "cell_type": "code",
   "execution_count": 20,
   "id": "7ec07ff8-bf17-4965-b7be-3ce20e8df1fa",
   "metadata": {},
   "outputs": [
    {
     "data": {
      "text/plain": [
       "(28, 28, 1)"
      ]
     },
     "execution_count": 20,
     "metadata": {},
     "output_type": "execute_result"
    }
   ],
   "source": [
    "img.shape"
   ]
  },
  {
   "cell_type": "code",
   "execution_count": 25,
   "id": "f45c6bd0-4b32-4056-8b1e-04db8bc2af1e",
   "metadata": {},
   "outputs": [
    {
     "name": "stdout",
     "output_type": "stream",
     "text": [
      "\u001b[1m1/1\u001b[0m \u001b[32m━━━━━━━━━━━━━━━━━━━━\u001b[0m\u001b[37m\u001b[0m \u001b[1m0s\u001b[0m 233ms/step\n"
     ]
    },
    {
     "data": {
      "text/plain": [
       "array([[0.49964333],\n",
       "       [0.49932763],\n",
       "       [0.4994767 ],\n",
       "       [0.49946827]], dtype=float32)"
      ]
     },
     "execution_count": 25,
     "metadata": {},
     "output_type": "execute_result"
    }
   ],
   "source": [
    "discriminator.predict(img)"
   ]
  },
  {
   "cell_type": "code",
   "execution_count": 26,
   "id": "7594d7b7-be36-4149-9d77-5bd3dc56f24f",
   "metadata": {},
   "outputs": [],
   "source": [
    "from tensorflow.keras.optimizers import Adam\n",
    "from tensorflow.keras.losses import BinaryCrossentropy"
   ]
  },
  {
   "cell_type": "code",
   "execution_count": 27,
   "id": "19922db3-01e3-476a-8de2-b2683ffcf979",
   "metadata": {},
   "outputs": [],
   "source": [
    "g_opt=Adam(0.0001)\n",
    "d_opt=Adam(0.00001)\n",
    "\n",
    "g_loss=BinaryCrossentropy()\n",
    "d_loss=BinaryCrossentropy()"
   ]
  },
  {
   "cell_type": "code",
   "execution_count": 28,
   "id": "f2018741-1156-42a9-b393-28c282861e22",
   "metadata": {},
   "outputs": [],
   "source": [
    "from tensorflow.keras.models import Model\n"
   ]
  },
  {
   "cell_type": "code",
   "execution_count": 29,
   "id": "86bca5d4-9ccd-437e-9b76-1805915f9abc",
   "metadata": {},
   "outputs": [],
   "source": [
    "class FashionGAN(Model): \n",
    "    def __init__(self, generator, discriminator, *args, **kwargs):\n",
    "        # Pass through args and kwargs to base class \n",
    "        super().__init__(*args, **kwargs)\n",
    "        \n",
    "        # Create attributes for gen and disc\n",
    "        self.generator = generator \n",
    "        self.discriminator = discriminator \n",
    "        \n",
    "    def compile(self, g_opt, d_opt, g_loss, d_loss, *args, **kwargs): \n",
    "        # Compile with base class\n",
    "        super().compile(*args, **kwargs)\n",
    "        \n",
    "        # Create attributes for losses and optimizers\n",
    "        self.g_opt = g_opt\n",
    "        self.d_opt = d_opt\n",
    "        self.g_loss = g_loss\n",
    "        self.d_loss = d_loss \n",
    "\n",
    "    def train_step(self, batch):\n",
    "        # Get the data \n",
    "        real_images = batch\n",
    "        fake_images = self.generator(tf.random.normal((128, 128, 1)), training=False)\n",
    "        \n",
    "        # Train the discriminator\n",
    "        with tf.GradientTape() as d_tape: \n",
    "            # Pass the real and fake images to the discriminator model\n",
    "            yhat_real = self.discriminator(real_images, training=True) \n",
    "            yhat_fake = self.discriminator(fake_images, training=True)\n",
    "            yhat_realfake = tf.concat([yhat_real, yhat_fake], axis=0)\n",
    "            \n",
    "            # Create labels for real and fakes images\n",
    "            y_realfake = tf.concat([tf.zeros_like(yhat_real), tf.ones_like(yhat_fake)], axis=0)\n",
    "            \n",
    "            # Add some noise to the TRUE outputs\n",
    "            noise_real = 0.15*tf.random.uniform(tf.shape(yhat_real))\n",
    "            noise_fake = -0.15*tf.random.uniform(tf.shape(yhat_fake))\n",
    "            y_realfake += tf.concat([noise_real, noise_fake], axis=0)\n",
    "            \n",
    "            # Calculate loss - BINARYCROSS \n",
    "            total_d_loss = self.d_loss(y_realfake, yhat_realfake)\n",
    "            \n",
    "        # Apply backpropagation - nn learn \n",
    "        dgrad = d_tape.gradient(total_d_loss, self.discriminator.trainable_variables) \n",
    "        self.d_opt.apply_gradients(zip(dgrad, self.discriminator.trainable_variables))\n",
    "        \n",
    "        # Train the generator \n",
    "        with tf.GradientTape() as g_tape: \n",
    "            # Generate some new images\n",
    "            gen_images = self.generator(tf.random.normal((128,128,1)), training=True)\n",
    "                                        \n",
    "            # Create the predicted labels\n",
    "            predicted_labels = self.discriminator(gen_images, training=False)\n",
    "                                        \n",
    "            # Calculate loss - trick to training to fake out the discriminator\n",
    "            total_g_loss = self.g_loss(tf.zeros_like(predicted_labels), predicted_labels) \n",
    "            \n",
    "        # Apply backprop\n",
    "        ggrad = g_tape.gradient(total_g_loss, self.generator.trainable_variables)\n",
    "        self.g_opt.apply_gradients(zip(ggrad, self.generator.trainable_variables))\n",
    "        \n",
    "        return {\"d_loss\":total_d_loss, \"g_loss\":total_g_loss}"
   ]
  },
  {
   "cell_type": "code",
   "execution_count": 30,
   "id": "4ff89d3f-dff7-44bf-8cc4-9e18b3816f2a",
   "metadata": {},
   "outputs": [],
   "source": [
    "fashgan = FashionGAN(generator, discriminator)"
   ]
  },
  {
   "cell_type": "code",
   "execution_count": 31,
   "id": "184367f9-638d-4db9-8464-7f00963d49a8",
   "metadata": {},
   "outputs": [],
   "source": [
    "fashgan.compile(g_opt, d_opt, g_loss, d_loss)"
   ]
  },
  {
   "cell_type": "code",
   "execution_count": 32,
   "id": "47ed1964-67c3-4147-949a-d4a22b2ef73c",
   "metadata": {},
   "outputs": [],
   "source": [
    "import os\n",
    "from tensorflow.keras.preprocessing.image import array_to_img\n",
    "from tensorflow.keras.callbacks import Callback"
   ]
  },
  {
   "cell_type": "code",
   "execution_count": 33,
   "id": "0fce000b-7822-49d6-a038-5ef361c7f37b",
   "metadata": {},
   "outputs": [],
   "source": [
    "class ModelMonitor(Callback):\n",
    "    def __init__(self, num_img=3, latent_dim=128):\n",
    "        self.num_img = num_img\n",
    "        self.latent_dim = latent_dim\n",
    "\n",
    "    def on_epoch_end(self, epoch, logs=None):\n",
    "        random_latent_vectors = tf.random.uniform((self.num_img, self.latent_dim,1))\n",
    "        generated_images = self.model.generator(random_latent_vectors)\n",
    "        generated_images *= 255\n",
    "        generated_images.numpy()\n",
    "        for i in range(self.num_img):\n",
    "            img = array_to_img(generated_images[i])\n",
    "            img.save(os.path.join('images', f'generated_img_{epoch}_{i}.png'))"
   ]
  },
  {
   "cell_type": "code",
   "execution_count": null,
   "id": "95123dff-4f49-4b05-8860-85df3f858747",
   "metadata": {},
   "outputs": [
    {
     "name": "stdout",
     "output_type": "stream",
     "text": [
      "\u001b[1m379/469\u001b[0m \u001b[32m━━━━━━━━━━━━━━━━\u001b[0m\u001b[37m━━━━\u001b[0m \u001b[1m27:33\u001b[0m 18s/step - d_loss: 0.4599 - g_loss: 1.0366"
     ]
    }
   ],
   "source": [
    "hist = fashgan.fit(ds, epochs=1, callbacks=[ModelMonitor()])"
   ]
  },
  {
   "cell_type": "code",
   "execution_count": null,
   "id": "f83656a1-75b3-418b-ac43-91a43e010da8",
   "metadata": {},
   "outputs": [],
   "source": []
  }
 ],
 "metadata": {
  "kernelspec": {
   "display_name": "Python 3 (ipykernel)",
   "language": "python",
   "name": "python3"
  },
  "language_info": {
   "codemirror_mode": {
    "name": "ipython",
    "version": 3
   },
   "file_extension": ".py",
   "mimetype": "text/x-python",
   "name": "python",
   "nbconvert_exporter": "python",
   "pygments_lexer": "ipython3",
   "version": "3.11.4"
  }
 },
 "nbformat": 4,
 "nbformat_minor": 5
}
